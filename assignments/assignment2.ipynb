{
 "cells": [
  {
   "cell_type": "markdown",
   "metadata": {
    "nbgrader": {
     "grade": false,
     "grade_id": "cell-c4be203e1da1aa63",
     "locked": true,
     "schema_version": 3,
     "solution": false,
     "task": false
    }
   },
   "source": [
    "# Mandatory Assignment 2\n",
    "\n",
    "This is the last of three mandatory assignments which must be completed during the course. Note that you only need to pass 2 out of 3 assignments to be eligible for the exam.\n",
    "\n",
    "\n",
    "First some practical information:\n",
    "\n",
    "* When is the assignment due?: **23:59, Thursday, August 20, 2020.**\n",
    "* Should i work with my group?: **Yes**. In particular, you should **only hand in 1 assignment per group**.\n",
    "\n",
    "The assignment consists of problems from some of the exercise sets that you have solved so far.\n",
    "\n",
    "**Note**: It is important that you submit your edited version of THIS [notebook](https://fileinfo.com/extension/ipynb#:~:text=An%20IPYNB%20file%20is%20a,Python%20language%20and%20their%20data.) as a .ipynb file and nothing else. Do not copy your answers into another notebook that you have made. Do not submit your answers as a pdf. Do not convert the notebook to json and then submit that etc. :) "
   ]
  },
  {
   "cell_type": "code",
   "execution_count": 1,
   "metadata": {},
   "outputs": [
    {
     "data": {
      "text/plain": [
       "<Figure size 1117.75x1000 with 20 Axes>"
      ]
     },
     "metadata": {},
     "output_type": "display_data"
    }
   ],
   "source": [
    "############################################################\n",
    "#RUN THIS CELL AND USE THE DATA TO SOLVE THE NEXT EXERCISES#\n",
    "############################################################\n",
    "import numpy as np \n",
    "import pandas as pd \n",
    "import matplotlib.pyplot as plt \n",
    "import seaborn as sns\n",
    "\n",
    "iris = sns.load_dataset('iris')\n",
    "iris = iris.query(\"species == 'virginica' | species == 'versicolor'\").sample(frac = 1, random_state = 3)\n",
    "X = np.array(iris[['sepal_length', 'sepal_width', 'petal_length', 'petal_width']])\n",
    "y = np.array(iris['species'].map({'virginica': 1, 'versicolor': -1}))\n",
    "\n",
    "#EDA before modelling \n",
    "#Do the two species look perfectly linear seperable in any of the plots? \n",
    "ax = sns.pairplot(iris, hue=\"species\", palette=\"husl\", diag_kws = {'shade': False})\n",
    "ax.fig.subplots_adjust(top=0.95)\n",
    "ax.fig.suptitle('Pairplot of features for the virginica and versicolor species', fontsize=16)\n",
    "\n",
    "plt.show()\n",
    "\n",
    "# A very simple deterministic test-train split \n",
    "Xtrain = X[:70]\n",
    "ytrain = y[:70]\n",
    "\n",
    "Xtest = X[70:]\n",
    "ytest = y[70:]"
   ]
  },
  {
   "cell_type": "markdown",
   "metadata": {
    "nbgrader": {
     "grade": false,
     "grade_id": "cell-2549517e368b0847",
     "locked": true,
     "schema_version": 3,
     "solution": false,
     "task": false
    }
   },
   "source": [
    "## Problems from Exercise Set 10:\n",
    "\n",
    "> **Ex. 10.1.5:** Write a function named `perceptronEpoch` whichs loops over the training data (both X and y) using `zip`. For each row in the data, update the weights according to the perceptron rule (remember to update the bias in `w[0]`!). Set $\\eta = 0.1$.\n",
    ">\n",
    "> Make sure the loop stores the total number of prediction errors encountered underways in the loop by creating an `int` which is incremented whenever you update the weights. \n",
    ">\n",
    ">> _Hint:_ your function should return the updated weights, as well as the number of errors made by the perceptron.\n",
    ">\n",
    ">> _Hint:_ The following code block implements the function in _pseudo_code (it wont run, but serves to communicate the functionality).\n",
    ">> ```\n",
    ">> function perceptronEpoch(X, y, W, eta):\n",
    ">>    set errors = 0\n",
    ">>\n",
    ">>    for each pair xi, yi in zip(X,y) do:\n",
    ">>        set update = eta * (yi - predict(xi, W))\n",
    ">>        set W[1:] = W[1:] + update * xi\n",
    ">>        set W[0] = W[0] + update\n",
    ">>        set errors = errors + int(update != 0) \n",
    ">>\n",
    ">>    return W, errors\n",
    ">> ```\n",
    ">\n",
    "> *Bonus:* If you completed the previous bonus exercise (for 10.1.4), calculate the accuracy on training data using the updated weights as input in the predict function. Any progress yet?\n",
    "\n",
    "\n",
    "You can use the following functions:\n",
    "\n",
    "```python\n",
    "def random_weights(location = 0.0, scale = 0.01, seed = 1):\n",
    "    # Init random number generator\n",
    "    rgen = np.random.RandomState(seed)\n",
    "    w = rgen.normal(loc=location, scale=scale, size= 1 + X.shape[1])\n",
    "    \n",
    "    return w\n",
    "\n",
    "def net_input(X, W): \n",
    "    return np.dot(X, W[1:]) + W[0]   # Linear product X'W + bias\n",
    "\n",
    "\n",
    "def predict(X, W):\n",
    "    linProd = net_input(X, W)\n",
    "    return np.where(linProd >= 0.0, 1, -1)    # 1(linProd > 0)\n",
    "```\n",
    "\n",
    ">\n",
    "> Make sure your `perceptronEpoch` function takes the arguments `X, y, W, eta`."
   ]
  },
  {
   "cell_type": "code",
   "execution_count": 2,
   "metadata": {
    "nbgrader": {
     "grade": false,
     "grade_id": "ex_10_1_5",
     "locked": false,
     "schema_version": 3,
     "solution": true,
     "task": false
    }
   },
   "outputs": [
    {
     "data": {
      "text/plain": [
       "0.45714285714285713"
      ]
     },
     "execution_count": 2,
     "metadata": {},
     "output_type": "execute_result"
    }
   ],
   "source": [
    "# def perceptronEpoch(X, y, W, eta = 0.1):\n",
    "### BEGIN SOLUTION\n",
    "#helper functions \n",
    "def random_weights(location = 0.0, scale = 0.01, seed = 1):\n",
    "    # Init random number generator\n",
    "    rgen = np.random.RandomState(seed)\n",
    "    w = rgen.normal(loc=location, scale=scale, size= 1 + X.shape[1])\n",
    "\n",
    "    return w\n",
    "\n",
    "def net_input(X, W): \n",
    "    return np.dot(X, W[1:]) + W[0]   # Linear product X'W + bias\n",
    "\n",
    "\n",
    "def predict(X, W):\n",
    "    linProd = net_input(X, W)\n",
    "    return np.where(linProd >= 0.0, 1, -1)    # 1(linProd > 0)\n",
    "\n",
    "def perceptronEpoch(X, y, W, eta = 0.1):\n",
    "    errors = 0\n",
    "    # For each pair (x-row, y-row) in the data\n",
    "    for xi, yi in zip(X, y):\n",
    "\n",
    "        # Do the updating process described in Raschka\n",
    "        update = eta * (yi - predict(xi, W))    # Notice this is 0 if target == predicted\n",
    "        W[1:] = W[1:] + update * xi      # Update weights\n",
    "        W[0] = W[0] + update            # Update bias\n",
    "\n",
    "        errors += int(update != 0.0)    # keep count of the errors in this iteration - boolean to 0,1 \n",
    "    return W, errors\n",
    "\n",
    "w, e = perceptronEpoch(Xtrain, ytrain, random_weights())\n",
    "\n",
    "# Bonus\n",
    "def accuracy(y, prediction):\n",
    "    return np.mean(y == prediction)\n",
    "accuracy(ytrain, predict(Xtrain, w))\n",
    "### END SOLUTION"
   ]
  },
  {
   "cell_type": "code",
   "execution_count": 3,
   "metadata": {
    "nbgrader": {
     "grade": true,
     "grade_id": "ex_10_1_5_test",
     "locked": true,
     "points": 3,
     "schema_version": 3,
     "solution": false,
     "task": false
    }
   },
   "outputs": [],
   "source": [
    "w, e = perceptronEpoch(Xtrain, ytrain, random_weights(), 0.1)\n",
    "assert len(w) == 5\n",
    "assert isinstance(e, int)"
   ]
  },
  {
   "cell_type": "markdown",
   "metadata": {
    "nbgrader": {
     "grade": false,
     "grade_id": "cell-59488e40ebf2f946",
     "locked": true,
     "schema_version": 3,
     "solution": false,
     "task": false
    }
   },
   "source": [
    "> **Ex. 10.1.6:** Write a function named `Perceptron` which repeat the updating procedure (calls the function) you constructed in 11.1.5 for `n_iter` times by packing the whole thing in a loop. Make sure you store the number of errors in each iteration in a list. \n",
    ">\n",
    "> Plot the total errors after each iteration in a graph with the number of epochs along the x-axis and errors along the y-axis.\n",
    ">\n",
    ">> _Hint:_ Make sure you dont reset the weights after each iteration.\n",
    ">\n",
    ">> _Hint:_ Once again some pseudocode:\n",
    ">> ```\n",
    ">> function Perceptron(X, y, n_iter):\n",
    ">>     set eta = 0.1\n",
    ">>     set weights = random_weights()\n",
    ">>     set errorseq = list()\n",
    ">>\n",
    ">>     for each _ in range(n_iter):\n",
    ">>         weights, e = f(X, y, W, eta) \n",
    ">>         errorseq.append(e)\n",
    ">>\n",
    ">>     return weights, errorseq\n",
    ">> ```\n",
    "\n",
    "Please make sure that your function is named `Perceptron` and takes the arguments `X, y, n_iter, eta`\n"
   ]
  },
  {
   "cell_type": "code",
   "execution_count": 4,
   "metadata": {
    "nbgrader": {
     "grade": false,
     "grade_id": "ex_10_1_6",
     "locked": false,
     "schema_version": 3,
     "solution": true,
     "task": false
    }
   },
   "outputs": [
    {
     "data": {
      "image/png": "[encoded data removed]",
      "text/plain": [
       "<Figure size 432x288 with 1 Axes>"
      ]
     },
     "metadata": {
      "needs_background": "light"
     },
     "output_type": "display_data"
    }
   ],
   "source": [
    "### BEGIN SOLUTION\n",
    "def Perceptron(X, y, n_iter = 50, eta = 0.1):    \n",
    "    # Reset weights. \n",
    "    w = random_weights()\n",
    "    error_sequence = []\n",
    "    # each step in the iteration procedure\n",
    "    for _ in range(n_iter):\n",
    "        w, e = perceptronEpoch(X, y, w, eta)\n",
    "        error_sequence.append(e)\n",
    "        \n",
    "    # w is what characterizes the trained network. The errors are just for show.\n",
    "    return w, error_sequence\n",
    "    \n",
    "\n",
    "trained_w, errorseq = Perceptron(Xtrain, ytrain)\n",
    "\n",
    "plt.plot(range(50), errorseq, 'b-o')\n",
    "plt.xlabel(\"Epoch\")\n",
    "plt.ylabel(\"Wrong predictions (N)\")\n",
    "plt.show()\n",
    "### END SOLUTION"
   ]
  },
  {
   "cell_type": "code",
   "execution_count": 5,
   "metadata": {
    "nbgrader": {
     "grade": true,
     "grade_id": "ex_10_1_6_test",
     "locked": true,
     "points": 2,
     "schema_version": 3,
     "solution": false,
     "task": false
    }
   },
   "outputs": [],
   "source": [
    "trained_w, errorseq = Perceptron(Xtrain, ytrain, 50, 0.1)\n",
    "assert len(trained_w) == 5\n",
    "assert len(errorseq) == 50\n",
    "assert all(isinstance(i, int) for i in errorseq)"
   ]
  },
  {
   "cell_type": "markdown",
   "metadata": {
    "nbgrader": {
     "grade": false,
     "grade_id": "cell-99668841f5921403",
     "locked": true,
     "schema_version": 3,
     "solution": false,
     "task": false
    }
   },
   "source": [
    "## Problems from Exercise Set 11:\n",
    "\n",
    "### First part of Exercise Set 11: Implementing and evaluating the gradient decent for linear regression"
   ]
  },
  {
   "cell_type": "code",
   "execution_count": 6,
   "metadata": {},
   "outputs": [],
   "source": [
    "############################################################\n",
    "#RUN THIS CELL AND USE THE DATA TO SOLVE THE NEXT EXERCISES#\n",
    "############################################################\n",
    "from sklearn.model_selection import train_test_split\n",
    "from sklearn.preprocessing import StandardScaler, PolynomialFeatures\n",
    "from sklearn.exceptions import DataConversionWarning; import warnings\n",
    "warnings.filterwarnings(action='ignore', category=DataConversionWarning)\n",
    "\n",
    "# Load the example tips dataset\n",
    "tips = sns.load_dataset(\"tips\")\n",
    "\n",
    "#Get dummies \n",
    "tips_num = pd.get_dummies(tips, drop_first=True)\n",
    "\n",
    "#Define feature matrix X and target vector y \n",
    "X = tips_num.drop('tip', axis = 1)\n",
    "y = tips_num['tip']\n",
    "\n",
    "\n",
    "#NOTE: It is important that the random_state parameter is set equal to 1\n",
    "#to ensure that the same sequence of random numbers are generated as in the solution notebook\n",
    "#Split data into training and test data\n",
    "X_train, X_test, y_train, y_test = train_test_split(X,y, test_size=.5,\n",
    "                                                    random_state=1)\n",
    "\n",
    "#Standardize data - note that we only fit the standard scaler on X_train and use it on X_train, X_test. \n",
    "norm_scaler = StandardScaler().fit(X_train) \n",
    "X_train = norm_scaler.transform(X_train) \n",
    "X_test = norm_scaler.transform(X_test) "
   ]
  },
  {
   "cell_type": "markdown",
   "metadata": {
    "nbgrader": {
     "grade": false,
     "grade_id": "cell-3582848e2d16da20",
     "locked": true,
     "schema_version": 3,
     "solution": false,
     "task": false
    }
   },
   "source": [
    "> **Ex. 11.1.5**: Make a function to update the weights given input target `y`, input features `X` and input weights `w` as well as learning rate, $\\eta$, i.e. greek `eta`. Name the function `update_weight`. You should use matrix multiplication.\n",
    "\n",
    "\n",
    "You can use the following functions inside `update_weight`:\n",
    "\n",
    "```python\n",
    "def net_input(X, w):    \n",
    "    ''' Computes the matrix product between X and w. Note that\n",
    "    X is assumed not to contain a bias/intercept column.'''\n",
    "    return np.dot(X, w[1:]) + w[0]   # We have to add w_[0] separately because this is the constant term.\n",
    "                                        # We could also have added a constant term (columns of 1's to X_ and multipliced it to all of w_)\n",
    "\n",
    "def compute_error(y, X, w):\n",
    "    return y - net_input(X, w)\n",
    "    \n",
    "```\n",
    "\n",
    ">\n",
    "> Make sure your function takes the arguments `X, y, W, eta`."
   ]
  },
  {
   "cell_type": "code",
   "execution_count": 7,
   "metadata": {
    "nbgrader": {
     "grade": true,
     "grade_id": "ex_11_1_5_test",
     "locked": false,
     "points": 3,
     "schema_version": 3,
     "solution": true,
     "task": false
    }
   },
   "outputs": [],
   "source": [
    "### BEGIN SOLUTION\n",
    "#helper functions \n",
    "def net_input(X, w):    \n",
    "    ''' Computes the matrix product between X and w. Note that\n",
    "    X is assumed not to contain a bias/intercept column.'''\n",
    "    return np.dot(X, w[1:]) + w[0]   # We have to add w_[0] separately because this is the constant term.\n",
    "                                        # We could also have added a constant term (columns of 1's to X_ and multipliced it to all of w_)\n",
    "\n",
    "def compute_error(y, X, w):\n",
    "    return y - net_input(X, w)\n",
    "\n",
    "#main function \n",
    "def update_weight(y, X, w, eta):\n",
    "    error = compute_error(y, X, w)    \n",
    "    w[1:] += eta * (X.T.dot(error))\n",
    "    w[0] += eta * (error).sum()   \n",
    "### END SOLUTION"
   ]
  },
  {
   "cell_type": "markdown",
   "metadata": {
    "nbgrader": {
     "grade": false,
     "grade_id": "cell-f840d5f2932b1d25",
     "locked": true,
     "schema_version": 3,
     "solution": false,
     "task": false
    }
   },
   "source": [
    "> **Ex. 11.1.6**: Use the code below to initialize the weights in the variable `w` at zero given feature set `X`. Notice how we include an extra weight that includes the bias term. Set the learning rate `eta` to 0.001. Make a loop with 50 iterations where you iteratively apply your weight updating function. \n",
    "\n",
    ">```python\n",
    "w = np.zeros(1+X.shape[1])\n",
    "```"
   ]
  },
  {
   "cell_type": "code",
   "execution_count": 8,
   "metadata": {
    "nbgrader": {
     "grade": false,
     "grade_id": "ex_11_1_6",
     "locked": false,
     "schema_version": 3,
     "solution": true,
     "task": false
    }
   },
   "outputs": [],
   "source": [
    "### BEGIN SOLUTION\n",
    "w = np.zeros(1+X.shape[1])\n",
    "error_train, error_test = [], []\n",
    "for i in range(50):\n",
    "    update_weight(y_train, X_train, w, 10**-3)\n",
    "### END SOLUTION"
   ]
  },
  {
   "cell_type": "code",
   "execution_count": 10,
   "metadata": {
    "nbgrader": {
     "grade": true,
     "grade_id": "ex_11_1_6_test",
     "locked": true,
     "points": 3,
     "schema_version": 3,
     "solution": false,
     "task": false
    }
   },
   "outputs": [],
   "source": [
    "assert round(np.sum(w)) == 4\n",
    "assert any(np.round(w, 2) == [ 2.93,  0.89,  0.1 ,  0.07,  0.08,  0.05,  0.  , -0.04, -0.02])"
   ]
  },
  {
   "cell_type": "markdown",
   "metadata": {
    "nbgrader": {
     "grade": false,
     "grade_id": "cell-a6898fa843a456ad",
     "locked": true,
     "schema_version": 3,
     "solution": false,
     "task": false
    }
   },
   "source": [
    "### Third part of Exercise Set 11: Modelling houseprices\n",
    "In this example we will try to predict houseprices using a lot of variable (or features as they are called in Machine Learning). We are going to work with Kaggle's dataset on house prices, see information [here](https://www.kaggle.com/c/house-prices-advanced-regression-techniques), which also is to be found in `sklearn.datasets`. Kaggle is an organization that hosts competitions in building predictive models."
   ]
  },
  {
   "cell_type": "code",
   "execution_count": 11,
   "metadata": {},
   "outputs": [],
   "source": [
    "############################################################\n",
    "#RUN THIS CELL AND USE THE DATA TO SOLVE THE NEXT EXERCISES#\n",
    "############################################################\n",
    "from sklearn.datasets import fetch_california_housing\n",
    "from sklearn.model_selection import train_test_split\n",
    "\n",
    "cal_house = fetch_california_housing()    \n",
    "X = pd.DataFrame(data=cal_house['data'], \n",
    "                 columns=cal_house['feature_names'])\\\n",
    "             .iloc[:,:-2]\n",
    "y = cal_house['target']\n",
    "\n",
    "X_train, X_test, y_train, y_test = train_test_split(X, y, test_size=.5, random_state=1)    #note random_state=1 again"
   ]
  },
  {
   "cell_type": "markdown",
   "metadata": {
    "nbgrader": {
     "grade": false,
     "grade_id": "cell-6f125b68cf8cebb7",
     "locked": true,
     "schema_version": 3,
     "solution": false,
     "task": false
    }
   },
   "source": [
    "> **Ex.11.3.1**: Generate interactions between all features to third degree, make sure you **exclude** the bias/intercept term. How many variables are there? Will OLS fail? Write 2 sentences. \n",
    ">\n",
    "> After making interactions rescale the features to have zero mean, unit std. deviation. Should you use the distribution of the training data to rescale the test data?  Write 1 sentence. \n",
    ">\n",
    ">> *Hint 1*: Try importing `PolynomialFeatures` from `sklearn.preprocessing`\n",
    ">\n",
    ">> *Hint 2*: If in doubt about which distribution to scale, you may read [this post](https://stats.stackexchange.com/questions/174823/how-to-apply-standardization-normalization-to-train-and-testset-if-prediction-i).\n",
    "\n",
    "Name you transformed training data set `X_train2` and your test data set `X_test2`"
   ]
  },
  {
   "cell_type": "code",
   "execution_count": 12,
   "metadata": {
    "nbgrader": {
     "grade": false,
     "grade_id": "ex_11_2_1",
     "locked": false,
     "schema_version": 3,
     "solution": true,
     "task": false
    }
   },
   "outputs": [
    {
     "name": "stdout",
     "output_type": "stream",
     "text": [
      "(10320, 83)\n"
     ]
    }
   ],
   "source": [
    "### BEGIN SOLUTION\n",
    "from sklearn.model_selection import train_test_split\n",
    "from sklearn.preprocessing import StandardScaler, PolynomialFeatures\n",
    "\n",
    "# polynomial transformation\n",
    "poly_trans = PolynomialFeatures(degree=3, include_bias=False)\n",
    "X_train_p = poly_trans.fit_transform(X_train)\n",
    "X_test_p = poly_trans.fit_transform(X_test)\n",
    "\n",
    "print(X_train_p.shape)\n",
    "# X_train has 83 features, and 10320 rows. Because features < rows, OLS would not fail.\n",
    "# Note that OLS may become computationally intractable before it fails due \n",
    "# to quadratic scaling in computation time.\n",
    "\n",
    "# rescaling data: we use the distribution of the test data\n",
    "rescaler = StandardScaler().fit(X_train_p)    \n",
    "\n",
    "#use scaler on polynomial transformed train and test \n",
    "X_train2 = rescaler.transform(X_train_p)\n",
    "X_test2 = rescaler.transform(X_test_p) \n",
    "### END SOLUTION"
   ]
  },
  {
   "cell_type": "code",
   "execution_count": 13,
   "metadata": {
    "nbgrader": {
     "grade": true,
     "grade_id": "ex_11_2_1_test",
     "locked": true,
     "points": 3,
     "schema_version": 3,
     "solution": false,
     "task": false
    }
   },
   "outputs": [],
   "source": [
    "assert round(X_train2.mean(axis=0).sum()) == 0\n",
    "assert round(np.std(X_train2, axis=0).sum()) == 83"
   ]
  },
  {
   "cell_type": "markdown",
   "metadata": {
    "nbgrader": {
     "grade": false,
     "grade_id": "cell-e28611963fcc9e39",
     "locked": true,
     "schema_version": 3,
     "solution": false,
     "task": false
    }
   },
   "source": [
    "> **Ex.11.3.2**: Construct a list of 20 $\\lambda$ values in the range from $10^{-4}$ to $10^4$ to be used in the Lasso model. For each $\\lambda$ estimate the Lasso model on the rescaled train data, calculate the _Root Mean_ Squared Error (RMSE) for the rescaled train data, `X_train2`, and the _Root Mean_ Squared Error (RMSE) for the rescaled test data, `X_test2`. For each iteration store the given $\\lambda$ and the calculated RMSEs for the rescaled train and test data in a list named `output`. \n",
    "\n",
    "> *Hint*: use `np.logspace(-4, 4, 20)` to create the list of lambdas to loop. \n",
    "\n",
    "> *Hint*: You can use the following code from scikit-learn to compute the _mean_ squared error.\n",
    "```python\n",
    "from sklearn.metrics import mean_squared_error as mse\n",
    "mse(y_pred, y_true)\n",
    "```"
   ]
  },
  {
   "cell_type": "code",
   "execution_count": 14,
   "metadata": {
    "nbgrader": {
     "grade": false,
     "grade_id": "ex_11_2_2",
     "locked": false,
     "schema_version": 3,
     "solution": true,
     "task": false
    },
    "scrolled": true
   },
   "outputs": [],
   "source": [
    "### BEGIN SOLUTION\n",
    "from sklearn.linear_model import Lasso\n",
    "from sklearn.metrics import mean_squared_error as mse\n",
    "from sklearn.exceptions import ConvergenceWarning; from warnings import simplefilter\n",
    "simplefilter(\"ignore\", category=ConvergenceWarning)\n",
    "\n",
    "def rmse(y_pred, y_true):\n",
    "    return np.sqrt(mse(y_pred, y_true))\n",
    "\n",
    "output = []\n",
    "\n",
    "lambdas =  np.logspace(-4, 4, 20)    #20 values from 10^-4 to 10^4. Default base=10 \n",
    "\n",
    "for lambda_ in lambdas:\n",
    "        \n",
    "    reg = Lasso(alpha=lambda_, random_state=1)\n",
    "    reg.fit(X_train2, y_train)\n",
    "    \n",
    "    output.append([lambda_,\n",
    "                   rmse(reg.predict(X_train2), y_train),\n",
    "                   rmse(reg.predict(X_test2), y_test)])\n",
    "### END SOLUTION"
   ]
  },
  {
   "cell_type": "code",
   "execution_count": 15,
   "metadata": {
    "nbgrader": {
     "grade": true,
     "grade_id": "ex_11_2_2_test",
     "locked": true,
     "points": 3,
     "schema_version": 3,
     "solution": false,
     "task": false
    }
   },
   "outputs": [],
   "source": [
    "assert any(np.sort(np.round(np.mean(output, axis=0))) == [1.0, 2.0, 806.0])"
   ]
  },
  {
   "cell_type": "markdown",
   "metadata": {
    "nbgrader": {
     "grade": false,
     "grade_id": "cell-620ee97ca95a84f4",
     "locked": true,
     "schema_version": 3,
     "solution": false,
     "task": false
    }
   },
   "source": [
    "> **Ex.11.3.3**: Make a plot with the lambdas on the x-axis and the RMSE measures on the y-axis. What happens to RMSE for train and test data as $\\lambda$ increases? The x-axis should be log scaled. Which one are we interested in minimizing? \n",
    "\n",
    "> Bonus: Can you find the lambda that gives the lowest MSE-test score?"
   ]
  },
  {
   "cell_type": "code",
   "execution_count": 16,
   "metadata": {
    "nbgrader": {
     "grade": true,
     "grade_id": "ex_11_2_3",
     "locked": false,
     "points": 3,
     "schema_version": 3,
     "solution": true,
     "task": false
    }
   },
   "outputs": [
    {
     "name": "stdout",
     "output_type": "stream",
     "text": [
      "Minimum RMSE = 0.783 found for lambda = 0.0127.\n"
     ]
    },
    {
     "data": {
      "image/png": "[encoded data removed]",
      "text/plain": [
       "<Figure size 432x288 with 1 Axes>"
      ]
     },
     "metadata": {
      "needs_background": "light"
     },
     "output_type": "display_data"
    }
   ],
   "source": [
    "### BEGIN SOLUTION\n",
    "MSE_df = pd.DataFrame(data=output, \n",
    "                      columns=['lambda', 'MSE train', 'MSE test'])\\\n",
    "           .set_index('lambda')    \n",
    "\n",
    "MSE_df.plot(logx=True, logy=True)\n",
    "\n",
    "# find the minimal observations as a series\n",
    "best_fit = MSE_df['MSE test'].nsmallest(1)\n",
    "\n",
    "# We are interested in minimizing the MSE test\n",
    "# because this tells us \n",
    "# how well out model perform out of sample. \n",
    "\n",
    "# take out the data minimum RMSE and the optimal lambda \n",
    "lambda_opt, RMSE_min = next(best_fit.items()) \n",
    "print('Minimum RMSE = %.3f found for lambda = %.4f.' % (RMSE_min, lambda_opt))\n",
    "### END SOLUTION"
   ]
  },
  {
   "cell_type": "markdown",
   "metadata": {
    "nbgrader": {
     "grade": false,
     "grade_id": "cell-df90d5afe2967903",
     "locked": true,
     "schema_version": 3,
     "solution": false,
     "task": false
    }
   },
   "source": [
    "## Problems from Exercise Set 12:\n",
    "\n",
    "> **Ex. 12.2.3:**\n",
    "Run a Lasso regression using the Pipeline from `Ex 12.2.2` which is given in the code cell below. In the outer loop searching through the 12 lambda values as specified below. \n",
    "In the inner loop make *5 fold cross validation* on the selected model and store the average MSE for each fold. Which lambda, from the selection below, gives the lowest test MSE?\n",
    " ```python \n",
    "lambdas =  np.logspace(-4, 4, 12)\n",
    "```\n",
    " *Hint:* `KFold` in `sklearn.model_selection` may be useful."
   ]
  },
  {
   "cell_type": "code",
   "execution_count": 17,
   "metadata": {
    "nbgrader": {
     "grade": true,
     "grade_id": "ex_12_1_4",
     "locked": false,
     "points": 5,
     "schema_version": 3,
     "solution": true,
     "task": false
    }
   },
   "outputs": [
    {
     "name": "stdout",
     "output_type": "stream",
     "text": [
      "Lowest test MSE equal to 0.6450 is achieved with lambda = 0.015.\n"
     ]
    }
   ],
   "source": [
    "from sklearn.pipeline import make_pipeline\n",
    "from sklearn.preprocessing import StandardScaler, PolynomialFeatures\n",
    "from sklearn.linear_model import Lasso\n",
    "\n",
    "#Pipeline from Ex. 12.1.3\n",
    "pipe_lasso = make_pipeline(PolynomialFeatures(degree=3, include_bias=False),                           \n",
    "                           StandardScaler(),\n",
    "                           Lasso(random_state=1))\n",
    "\n",
    "#The feature matrix X and target vector y are defined \n",
    "# as below the code cell \"Second part of Exercise Set 11: Modelling houseprices\". \n",
    "\n",
    "#Split X, y into development (2/3) and test data (1/3).\n",
    "X_dev, X_test, y_dev, y_test = train_test_split(X, y, test_size=1/3, random_state=1)    \n",
    "\n",
    "lambdas =  np.logspace(-4, 4, 12)\n",
    "\n",
    "### BEGIN SOLUTION\n",
    "from sklearn.model_selection import KFold\n",
    "kfolds = KFold(n_splits=5)\n",
    "mses = []\n",
    "\n",
    "for lambda_ in lambdas:\n",
    "    \n",
    "    pipe_lasso = make_pipeline(PolynomialFeatures(degree=3, include_bias=False),\n",
    "                               StandardScaler(),\n",
    "                               Lasso(alpha=lambda_, random_state=1))    \n",
    "    mses_test = []\n",
    "    mses_train = []\n",
    "    \n",
    "    for train_idx, val_idx in kfolds.split(X_dev, y_dev):\n",
    "        X_train, y_train = X_dev.iloc[train_idx], y_dev[train_idx]\n",
    "        X_val, y_val = X_dev.iloc[val_idx], y_dev[val_idx] \n",
    "\n",
    "        pipe_lasso.fit(X_train, y_train)\n",
    "        \n",
    "        mses_train.append(mse(pipe_lasso.predict(X_train), y_train))\n",
    "        mses_test.append(mse(pipe_lasso.predict(X_val), y_val))\n",
    "                \n",
    "    mses.append([sum(mses_train)/len(mses_train),\n",
    "                 sum(mses_test)/len(mses_test),\n",
    "                 lambda_])   \n",
    "\n",
    "#create df with MSE values \n",
    "df_mses = pd.DataFrame(mses,\n",
    "                       columns = [\"MSE_train\", \"MSE_test\", \"lambda\"])\n",
    "#index of the lambda that gives the lowest MSE_test in the dataframe \n",
    "idx_optimal_lambda = df_mses.idxmin()['MSE_test']\n",
    "lambda_opt_test = df_mses.loc[idx_optimal_lambda]['lambda']\n",
    "opt_test_mse = df_mses.loc[idx_optimal_lambda]['MSE_test']\n",
    "print(f\"Lowest test MSE equal to {opt_test_mse:.4f} is achieved with lambda = {lambda_opt_test:.3f}.\")\n",
    "### END SOLUTION"
   ]
  },
  {
   "cell_type": "markdown",
   "metadata": {
    "nbgrader": {
     "grade": false,
     "grade_id": "cell-878b42b675168f8a",
     "locked": true,
     "schema_version": 3,
     "solution": false,
     "task": false
    }
   },
   "source": [
    "## Problems from Session 14:\n",
    "\n",
    "> **Ex. 1**: Make a preprocessing function that takes a single string and:\n",
    "\n",
    "        1. Lowercases the words.\n",
    "        2. Splits the text into words (tokenize).\n",
    "        3. Either stems or lemmatizes words.\n",
    " \n",
    ">Feel free to add more steps of preprocessing. For example stopword removal or removal of what seems to be HTML elements (such as \"< br/>\") in the text, and removal of punctuation, and handling of emoticons as in the textbook.\n",
    "\n",
    "> Apply the function to the string `movie_review_sample` in the code cell below. Print the processed string. \n"
   ]
  },
  {
   "cell_type": "code",
   "execution_count": 18,
   "metadata": {
    "nbgrader": {
     "grade": true,
     "grade_id": "ex_14_1",
     "locked": false,
     "points": 3,
     "schema_version": 3,
     "solution": true,
     "task": false
    }
   },
   "outputs": [
    {
     "name": "stdout",
     "output_type": "stream",
     "text": [
      "['forbidden', 'siren', 'is', 'based', 'upon', 'the', 'siren', '2', 'playstation', '2', 'so', 'many', '2', 'game', 'like', 'most', 'video', 'game', 'turned', 'movie', 'i', 'would', 'say', 'the', 'majority', 'dont', 'translate', 'into', 'a', 'different', 'medium', 'really', 'well', 'and', 'that', 'go', 'for', 'this', 'one', 'too', 'painfullybr', 'br', 'there', 'a', 'pretty', 'long', 'prologue', 'which', 'explains', 'and', 'set', 'the', 'premise', 'for', 'the', 'story', 'and', 'the', 'mysterious', 'island', 'on', 'which', 'a', 'writer', 'leo', 'morimoto', 'and', 'his', 'child', 'daughter', 'yuki', 'yui', 'ichikawa', 'and', 'son', 'hideo', 'jun', 'nishiyama', 'come', 'to', 'move', 'into', 'the', 'villager', 'dont', 'look', 'all', 'too', 'friendly', 'and', 'soon', 'enough', 'sound', 'advice', 'is', 'given', 'about', 'the', 'siren', 'on', 'the', 'island', 'to', 'stay', 'indoors', 'once', 'the', 'siren', 'start', 'wailingbr', 'br', 'naturally', 'and', 'slowly', 'thing', 'start', 'to', 'go', 'bump', 'and', 'our', 'sibling', 'go', 'on', 'a', 'mission', 'beating', 'around', 'the', 'bush', 'to', 'discover', 'exactly', 'what', 'is', 'happening', 'on', 'this', 'unfriendly', 'island', 'with', 'it', 'strange', 'inhabitant', 'but', 'in', 'truth', 'you', 'will', 'not', 'bother', 'with', 'whats', 'going', 'on', 'a', 'folklore', 'and', 'fairy', 'tale', 'get', 'thrown', 'in', 'to', 'convolute', 'the', 'plot', 'even', 'more', 'what', 'wa', 'really', 'pushing', 'it', 'into', 'the', 'realm', 'of', 'bad', 'comedy', 'are', 'it', 'unwittingly', 'illplacedoutofthenorm', 'moment', 'which', 'just', 'drew', 'pitiful', 'giggle', 'at', 'it', 'sheer', 'stupidity', 'until', 'it', 'explained', 'much', 'later', 'it', 'one', 'thing', 'trying', 'to', 'come', 'up', 'and', 'present', 'something', 'smart', 'but', 'another', 'thing', 'doing', 'it', 'convincingly', 'and', 'with', 'loophole', 'coveredbr', 'br', 'despite', 'it', 'clocking', 'in', 'under', '90', 'minute', 'i', 'think', 'it', 'a', 'horror', 'movie', 'phenomenon', 'to', 'have', 'that', 'a', 'a', 'runtime', 'benchmark', 'it', 'give', 'that', 'almost', 'two', 'hour', 'feel', 'with', 'it', 'slow', 'buildup', 'to', 'tell', 'what', 'it', 'want', 'to', 'thing', 'begin', 'to', 'pick', 'up', 'toward', 'the', 'last', '20', 'minute', 'but', 'it', 'a', 'classic', 'case', 'of', 'too', 'little', 'too', 'latebr', 'br', 'what', 'save', 'the', 'movie', 'is', 'how', 'it', 'change', 'tack', 'and', 'it', 'revelation', 'at', 'the', 'end', 'again', 'this', 'is', 'a', 'common', 'device', 'used', 'to', 'try', 'and', 'elevate', 'a', 'seemingly', 'simple', 'horror', 'movie', 'into', 'something', 'a', 'little', 'bit', 'extra', 'in', 'the', 'hope', 'of', 'wowing', 'an', 'audience', 'it', 'turned', 'out', 'rather', 'satisfactorily', 'but', 'leaf', 'a', 'bad', 'aftertaste', 'a', 'youll', 'feel', 'cheated', 'somewhat', 'there', 'are', 'two', 'way', 'a', 'twist', 'will', 'make', 'you', 'feel', 'it', 'either', 'elevates', 'the', 'movie', 'to', 'a', 'memorable', 'level', 'or', 'provides', 'you', 'with', 'that', 'hokey', 'feeling', 'unfortunately', 'forbidden', 'siren', 'belonged', 'more', 'to', 'the', 'latterbr', 'br', 'the', 'saving', 'grace', 'will', 'be', 'it', 'cinematography', 'with', 'it', 'use', 'of', 'light', 'shadow', 'and', 'mirror', 'but', 'i', 'will', 'be', 'that', 'explicit', 'it', 'still', 'not', 'worth', 'the', 'time', 'so', 'better', 'to', 'avoid', 'this']\n"
     ]
    }
   ],
   "source": [
    "import string # for efficient operations with strings\n",
    "import nltk   # NLTK: A basic, popular NLP package. \n",
    "\n",
    "#example string to apply your function on \n",
    "movie_review_sample = \"Forbidden Siren is based upon the Siren 2 Playstation 2 (so many 2s) game. Like most video game turned movies, I would say the majority don't translate into a different medium really well. And that goes for this one too, painfully.<br /><br />There's a pretty long prologue which explains and sets the premise for the story, and the mysterious island on which a writer (Leo Morimoto) and his children, daughter Yuki (Yui Ichikawa) and son Hideo (Jun Nishiyama) come to move into. The villagers don't look all too friendly, and soon enough, sound advice is given about the siren on the island, to stay indoors once the siren starts wailing.<br /><br />Naturally and slowly, things start to go bump, and our siblings go on a mission beating around the bush to discover exactly what is happening on this unfriendly island with its strange inhabitants. But in truth, you will not bother with what's going on, as folklore and fairy tales get thrown in to convolute the plot even more. What was really pushing it into the realm of bad comedy are its unwittingly ill-placed-out-of-the-norm moments which just drew pitiful giggles at its sheer stupidity, until it's explained much later. It's one thing trying to come up and present something smart, but another thing doing it convincingly and with loopholes covered.<br /><br />Despite it clocking in under 90 minutes - I think it's a horror movie phenomenon to have that as a runtime benchmark - it gives that almost two hour feel with its slow buildup to tell what it wants to. Things begin to pick up toward the last 20 minutes, but it's a classic case of too little too late.<br /><br />What saves the movie is how it changes tack and its revelation at the end. Again this is a common device used to try and elevate a seemingly simple horror movie into something a little bit extra in the hope of wowing an audience. It turned out rather satisfactorily, but leaves a bad aftertaste as you'll feel cheated somewhat. There are two ways a twist will make you feel - it either elevates the movie to a memorable level, or provides you with that hokey feeling. Unfortunately Forbidden Siren belonged more to the latter.<br /><br />The saving grace will be its cinematography with its use of light, shadows and mirrors, but I will be that explicit - it's still not worth the time, so better to avoid this.\"\n",
    "\n",
    "### BEGIN SOLUTION\n",
    "def preprocess(text):\n",
    "    \n",
    "    # SOLUTION\n",
    "    text = text.lower()\n",
    "    text = text.translate(str.maketrans('', '', string.punctuation))\n",
    "    tokens = nltk.word_tokenize(text)\n",
    "    wnl = nltk.WordNetLemmatizer()\n",
    "    lemmas = [wnl.lemmatize(t) for t in tokens]\n",
    "    return lemmas # return a list of stems/lemmas\n",
    "\n",
    "print(preprocess(movie_review_sample))\n",
    "### END SOLUTION"
   ]
  }
 ],
 "metadata": {
  "celltoolbar": "Create Assignment",
  "kernelspec": {
   "display_name": "Python 3",
   "language": "python",
   "name": "python3"
  },
  "language_info": {
   "codemirror_mode": {
    "name": "ipython",
    "version": 3
   },
   "file_extension": ".py",
   "mimetype": "text/x-python",
   "name": "python",
   "nbconvert_exporter": "python",
   "pygments_lexer": "ipython3",
   "version": "3.8.5"
  },
  "varInspector": {
   "cols": {
    "lenName": 16,
    "lenType": 16,
    "lenVar": 40
   },
   "kernels_config": {
    "python": {
     "delete_cmd_postfix": "",
     "delete_cmd_prefix": "del ",
     "library": "var_list.py",
     "varRefreshCmd": "print(var_dic_list())"
    },
    "r": {
     "delete_cmd_postfix": ") ",
     "delete_cmd_prefix": "rm(",
     "library": "var_list.r",
     "varRefreshCmd": "cat(var_dic_list()) "
    }
   },
   "types_to_exclude": [
    "module",
    "function",
    "builtin_function_or_method",
    "instance",
    "_Feature"
   ],
   "window_display": false
  }
 },
 "nbformat": 4,
 "nbformat_minor": 2
}
